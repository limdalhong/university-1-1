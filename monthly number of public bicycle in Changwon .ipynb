{
 "cells": [
  {
   "cell_type": "markdown",
   "metadata": {},
   "source": [
    "# Term Project Proposal\n",
    "\n",
    "월,수 7:30분 수업 , 2019102123 임달홍"
   ]
  },
  {
   "cell_type": "markdown",
   "metadata": {},
   "source": [
    "# 주제\n",
    "창원시 공용자전거(누비자)와 서울시 공용자전거(따릉이)의 2017년의 월별, 시간대별 이용자 수 비교"
   ]
  },
  {
   "cell_type": "markdown",
   "metadata": {},
   "source": [
    "# 1) 주제 선정 이유\n",
    "내가 살던 지역에는 누비자라는 공공자전거가 존재한다. 나는 이 자전거를 이용하였고 이용하는 사람도 많이 보아왔다. 그리고 대학에 오고나서 다양한 지역의 친구들을 만나 지역별로 다양한 공공자전거가 있다는 것을 알게 되었다. 한 번 서울에 올라갈 일이 생겼는데 그 때 따릉이라는 서울의 공공자전거를 볼 수 있었다. 서울은 창원(내가 살던 지역)에 비해 인구가 10배나 많고 교통이 복잡하다. 그래서 서울에는 공공자전거를 이용하는 사람이 많을거라 생각하였다. 하지만 창원에 비해서 서울에서는 공공자전거를 타는 사람을 많이 찾을 수 없었다. 나는 이번 텀프를 통해 실제로 서울시에는 공공자전거를 이용하는 사람이 우리 지역보다 적은지 데이터로 정리하여 확인하고, 왜 그런지 이유에 대해 생각해보려 한다."
   ]
  },
  {
   "cell_type": "markdown",
   "metadata": {},
   "source": [
    "# 2) 가설 정의\n",
    "따릉이(서울시 공공자전거)는 2014년 부터 시범운행을 실시하였다. 반면 누비자는 2008년 부터 실행되었고 홍보 활동도 많이 시행하였다. 그리고 서울를 한 번 가봤을 때 느꼇던 건데, 서울시는 교통이 혼잡해서 자전거가 잘 다니기에는 무리가 있을 것 같다. 또 지하철과 버스가 지방보다 더 잘 발달괴어 운행되기에 자전거를 많이 이용할 것 같지않다. 결론을 말하면 누비자가 따릉이보다 더 많이 이용할 것같다."
   ]
  },
  {
   "cell_type": "markdown",
   "metadata": {},
   "source": [
    "# 3) 데이터 획득\n",
    "정부 3.0 공공 데이터 : http://www.data.go.kr/ 에서 누비자의 2017년 시간대별 이용정보를 액셀 파일로 획득하였다. \n",
    "<br>서울 열린 데이터 광장 : https://data.seoul.go.kr/ 에서 따릉이의 2017년 시간대별 이용정보를 액셀파일로 획득하였다. "
   ]
  },
  {
   "cell_type": "markdown",
   "metadata": {},
   "source": [
    "# 4) 분석을 위한 데이터의 가공\n",
    "누비자의 다운받은 파일에는 [ 자전거번호, 출발터미널, 출발일, 도착터미널, 도착일, 도착 시간 ]의 정보가 엑셀로 정리되어 있다. 우선은 따릉이와 월별 이용자수를 비교하기위해 출발일의 데이터를 월별로 정리한다. 또 시간대별 이용자수를 정리하기위해 출발시간의 데이터를 정리한다. 따릉이의 다운받은 파일에는 [ 대여일자, 대여시간, 대여소번호, 대여소, 대여구분코드, 성별, 연령대코드, 이용건수, 운동량, 탄소량, 이동거리, 이동시간 ]의 정보가 엑셀로 정리되어 있다. 월별 이용자수와 시간대별 이용건수를 알아보기위해 대여일자, 대여시간, 이용건수의 정보를 취하여 정리한다. "
   ]
  },
  {
   "cell_type": "code",
   "execution_count": 3,
   "metadata": {},
   "outputs": [
    {
     "name": "stdout",
     "output_type": "stream",
     "text": [
      "[333777, 324161, 416524, 480824, 551188, 587301, 536336, 540638, 610611, 530454, 516381, 372157]\n"
     ]
    }
   ],
   "source": [
    "#1. 누비자 액셀데이터에세 각 월마다의 이용자수를 구해 리스트로 나타낸다.\n",
    "\n",
    "import csv\n",
    "\n",
    "a = [] # a리스트에 각 월별로 이용자수를 나타낼 것이다.\n",
    "\n",
    "def list_months_changwon(_str) : \n",
    "    f = open(_str, 'r')\n",
    "    rdr = csv.reader(f)\n",
    "    tmp = 0\n",
    "    for line in rdr:\n",
    "        if tmp is 0 :\n",
    "            pass # 1번째 행은 구하는 값이 아니므로 pass한다.\n",
    "        tmp += 1\n",
    "    f.close()\n",
    "    a.append(tmp - 1)\n",
    "\n",
    "for i in range(12) :\n",
    "    list_months_changwon('./nubiza'+str(i+1)+'.csv') # 각 월별로 데이터를 추출해 리스트로 정리한다. \n",
    "                                                     # 각 데이터 파일 이름은 'nubiza + 수' 로 설정하였다.\n",
    "\n",
    "print(a)    "
   ]
  },
  {
   "cell_type": "code",
   "execution_count": 2,
   "metadata": {},
   "outputs": [
    {
     "name": "stdout",
     "output_type": "stream",
     "text": [
      "[84149, 85752, 188767, 319181, 451223, 536707, 388665, 540559, 889877, 863105, 482618, 200436]\n"
     ]
    }
   ],
   "source": [
    "#2. 따릉이 액셀데이터에세 각 월마다의 이용자수를 구해 리스트로 나타낸다.\n",
    "\n",
    "import csv\n",
    "\n",
    "b = [] # b리스트에 각 월별로 이용자수를 나타낼 것이다.\n",
    "\n",
    "def list_month_seoul(_str):\n",
    "    f = open(_str)\n",
    "    rdr = csv.reader(f)\n",
    "   \n",
    "    tmp = 0\n",
    "    for line in rdr:\n",
    "        if tmp is 0:\n",
    "            pass\n",
    "        else:\n",
    "            dalhong = line[0]\n",
    "            dalhang = dalhong.split('-')\n",
    "            b[int(dalhang[1])-1] += int(line[7]) # 8번째 데이터파일이 이용건수이므로 이를 더하였다.\n",
    "        tmp += 1\n",
    "     \n",
    "    f.close()\n",
    "\n",
    "for i in range(12) :\n",
    "    b.append(0)\n",
    "for i in range(6) :\n",
    "    list_month_seoul('./따릉이'+str(i+1)+'.csv')  # 각 월별로 데이터를 추출해 리스트로 정리한다. \n",
    "                                                  # 각 데이터 파일 이름은 '따릉이 + 수' 로 설정하였다.\n",
    "\n",
    "print(b) "
   ]
  },
  {
   "cell_type": "markdown",
   "metadata": {},
   "source": [
    "서울시 인구: 10124579 (2017년 12월 31일 기준)\n",
    "<br>창원시 인구: 1057032 (2017년 12월 31일 기준)"
   ]
  },
  {
   "cell_type": "code",
   "execution_count": 3,
   "metadata": {},
   "outputs": [
    {
     "name": "stdout",
     "output_type": "stream",
     "text": [
      "[0.31576811298049634, 0.3066709427907575, 0.3940505112428006, 0.45488121457060904, 0.5214487357052577, 0.555613264309879, 0.5073980730952327, 0.5114679593427635, 0.5776655768226506, 0.5018334355062098, 0.4885197420702495, 0.3520773259466128]\n"
     ]
    }
   ],
   "source": [
    "#3. #1에서의 리스트를 창원시 인구수로 나누어 리스트로 정리한다.\n",
    "\n",
    "c = []\n",
    "\n",
    "for i in a:\n",
    "    c.append(i / 1057032)\n",
    "\n",
    "print(c)"
   ]
  },
  {
   "cell_type": "code",
   "execution_count": 4,
   "metadata": {},
   "outputs": [
    {
     "name": "stdout",
     "output_type": "stream",
     "text": [
      "[0.008311357933994096, 0.00846968550494791, 0.018644429560972363, 0.03152536021497783, 0.044567087678411124, 0.053010302946917595, 0.03838826286011497, 0.05339076321099376, 0.08789274102162668, 0.08524848292457395, 0.047667957354078624, 0.019796971311103403]\n"
     ]
    }
   ],
   "source": [
    "#4. #2에서의 리스트를 서울시 인구수로 나누어 리스트로 정리한다.\n",
    "\n",
    "d = []\n",
    "\n",
    "for i in b:\n",
    "    d.append(i / 10124579)\n",
    "\n",
    "print(d)"
   ]
  },
  {
   "cell_type": "code",
   "execution_count": 14,
   "metadata": {},
   "outputs": [
    {
     "data": {
      "image/png": "[encoded data removed]",
      "text/plain": [
       "<Figure size 432x288 with 1 Axes>"
      ]
     },
     "metadata": {
      "needs_background": "light"
     },
     "output_type": "display_data"
    }
   ],
   "source": [
    "#5. #3과 #4에서 정리한 리스트을 그래프를 통해 비교한다.\n",
    "\n",
    "import matplotlib.pyplot as plt\n",
    "\n",
    "data_x1 =  [1,2,3,4,5,6,7,8,9,10,11,12]\n",
    "data_y1 =  c\n",
    "data_x2 =  [1,2,3,4,5,6,7,8,9,10,11,12]\n",
    "data_y2 =  d\n",
    "\n",
    "plt.bar(data_x1, data_y1, label = 'Changwon', color = 'g', width = 0.5)\n",
    "plt.bar(data_x2, data_y2, label = 'Seoul', color = 'b', width = 0.5)\n",
    "plt.legend()\n",
    "plt.title('Number of public bicycle riders by population')\n",
    "plt.xlabel('Month')\n",
    "plt.show()"
   ]
  },
  {
   "cell_type": "code",
   "execution_count": 6,
   "metadata": {},
   "outputs": [
    {
     "name": "stdout",
     "output_type": "stream",
     "text": [
      "37.992361234856745\n",
      "36.208067302097966\n",
      "21.135026413875956\n",
      "14.42905684403546\n",
      "11.700309866957141\n",
      "10.481231636541446\n",
      "13.217531487271707\n",
      "9.579708709566573\n",
      "6.572392328514497\n",
      "5.886713971792571\n",
      "10.248388418272556\n",
      "17.784403503638224\n"
     ]
    }
   ],
   "source": [
    "#각 월별 인구수 대비 이용자수 차이량\n",
    "\n",
    "for i in range(12):\n",
    "    print(c[i]/d[i])\n",
    "    \n",
    "# 누비자가 5 ~ 37배 더 많은 것을 확인할 수 있다."
   ]
  },
  {
   "cell_type": "code",
   "execution_count": 7,
   "metadata": {},
   "outputs": [
    {
     "name": "stdout",
     "output_type": "stream",
     "text": [
      "[153794, 0, 0, 0, 36793, 64548, 131976, 356053, 313492, 210137, 182236, 204179, 260523, 261778, 256559, 306646, 392327, 505395, 493059, 377766, 359532, 385363, 325449, 222747]\n"
     ]
    }
   ],
   "source": [
    "#6. 1시간 단위로 누비자의 이용자수를 리스트로 정리한다.\n",
    "\n",
    "import csv\n",
    "\n",
    "e = [] # e리스트에 1시간 단위의 이용자수를 정리하여 나타낼 것이다.\n",
    "\n",
    "for i in range(24) :\n",
    "    e.append(0) # 미리 24개의 0을 리스트에 추가한다.\n",
    "\n",
    "def list_hours_changwon(_str):\n",
    "   \n",
    "    f = open(_str)\n",
    "    rdr = csv.reader(f)\n",
    "   \n",
    "    tmp = 0\n",
    "    for line in rdr:\n",
    "        if tmp is 0:\n",
    "            pass\n",
    "        else:\n",
    "            dalhong = line[3]\n",
    "            dalhang = dalhong.split(':')\n",
    "            e[int(dalhang[0])] += 1\n",
    "        tmp += 1\n",
    "     \n",
    "    f.close()\n",
    "   \n",
    "for i in range(12):  \n",
    "    list_hours_changwon('./nubiza'+str(1+i)+'.csv') # 1시간 단위로 이용자수 데이터를 추출해 리스트로 정리한다.\n",
    "                                                    # 이때 1 ~12월을 모두 합하여 나타내었다.\n",
    "                                                    # 각 데이터 파일 이름은 'nubiza + 수' 로 설정하였다.\n",
    "\n",
    "print(e)"
   ]
  },
  {
   "cell_type": "code",
   "execution_count": 8,
   "metadata": {},
   "outputs": [
    {
     "name": "stdout",
     "output_type": "stream",
     "text": [
      "[124464, 95193, 66532, 44341, 30014, 32915, 63779, 143838, 237421, 155689, 128801, 151808, 178796, 183295, 196836, 216915, 241042, 281603, 379438, 309404, 274209, 264817, 231997, 163085]\n"
     ]
    }
   ],
   "source": [
    "#6. 1시간 단위로 따릉이의 이용자수를 리스트로 정리한다.\n",
    "\n",
    "import csv\n",
    "\n",
    "g = [] # g리스트에 1시간 단위의 이용자수를 정리하여 나타낼 것이다.\n",
    "\n",
    "for i in range(24) :\n",
    "    g.append(0) # 미리 24개의 0을 리스트에 추가한다.\n",
    "\n",
    "def list_hours_seoul(_str):\n",
    "   \n",
    "    f = open(_str)\n",
    "    rdr = csv.reader(f)\n",
    "   \n",
    "    tmp = 0\n",
    "    for line in rdr:\n",
    "        if tmp is 0:\n",
    "            pass\n",
    "        else:\n",
    "            dalhong = line[1]\n",
    "            g[int(dalhong.strip(\"'\"))] += 1\n",
    "        tmp += 1\n",
    "     \n",
    "    f.close()\n",
    "    \n",
    "\n",
    "for i in range(6):  \n",
    "    list_hours_seoul('./따릉이'+str(1+i)+'.csv')  # 1시간 단위로 이용자수 데이터를 추출해 리스트로 정리한다.\n",
    "                                                  # 이때 1 ~12월을 모두 합하여 나타내었다.\n",
    "                                                  # 각 데이터 파일 이름은 '따릉이 + 수' 로 설정하였다.\n",
    "    \n",
    "print(g)"
   ]
  },
  {
   "cell_type": "code",
   "execution_count": 9,
   "metadata": {},
   "outputs": [
    {
     "name": "stdout",
     "output_type": "stream",
     "text": [
      "[0.14549606823634478, 0.0, 0.0, 0.0, 0.034807839308554515, 0.061065322525713506, 0.12485525509161502, 0.33684221480522825, 0.296577587055075, 0.19879909028298104, 0.17240348447350695, 0.1931625532623421, 0.2464665213541312, 0.24765380802094922, 0.2427163983682613, 0.29010096193871143, 0.3711590566794572, 0.47812649002111574, 0.4664560770156438, 0.35738369320890945, 0.3401335058919692, 0.36457079823505817, 0.3078894489476194, 0.21072871966033194]\n"
     ]
    }
   ],
   "source": [
    "#7. #5의 리스트를 창원시 인구수로 나누어 리스트로 정리한다.\n",
    "\n",
    "h = []\n",
    "\n",
    "for i in e:\n",
    "    h.append(i / 1057032)\n",
    "print(h)"
   ]
  },
  {
   "cell_type": "code",
   "execution_count": 10,
   "metadata": {},
   "outputs": [
    {
     "name": "stdout",
     "output_type": "stream",
     "text": [
      "[0.012293251897189997, 0.009402168722274774, 0.006571334966125505, 0.0043795401270512084, 0.002964468942362937, 0.003250999374887588, 0.00629942242536702, 0.014206812945012331, 0.023449962709560564, 0.0153773307512342, 0.012721615387662045, 0.014994006170528177, 0.01765959848799639, 0.01810396264378005, 0.019441400970845308, 0.02142459454363485, 0.023807607210136836, 0.02781379847991704, 0.03747691632412568, 0.030559690432560207, 0.02708349650884249, 0.026155852998924697, 0.022914236730238364, 0.01610783026138667]\n"
     ]
    }
   ],
   "source": [
    "#8. #6의 리스트를 서울시 인구수로 나누어 리스트로 정리한다.\n",
    "\n",
    "j = []\n",
    "\n",
    "for i in g:\n",
    "    j.append(i / 10124579)\n",
    "print(j)"
   ]
  },
  {
   "cell_type": "code",
   "execution_count": 11,
   "metadata": {},
   "outputs": [
    {
     "data": {
      "image/png": "[encoded data removed]",
      "text/plain": [
       "<Figure size 432x288 with 1 Axes>"
      ]
     },
     "metadata": {
      "needs_background": "light"
     },
     "output_type": "display_data"
    }
   ],
   "source": [
    "#9. #7과 #8에서 정리한 리스트를 그래프를 이용하여 비교한다.\n",
    "\n",
    "import matplotlib.pyplot as plt\n",
    "\n",
    "data_x1 =  [0,1,2,3,4,5,6,7,8,9,10,11,12,13,14,15,16,17,18,19,20,21,22,23]\n",
    "data_y1 =  h\n",
    "data_x2 =  [0,1,2,3,4,5,6,7,8,9,10,11,12,13,14,15,16,17,18,19,20,21,22,23]\n",
    "data_y2 =  j\n",
    "\n",
    "plt.bar(data_x1, data_y1, label = 'Changwon', color = 'g', width = 0.5)\n",
    "plt.bar(data_x2, data_y2, label = 'Seoul', color = 'b', width = 0.5)\n",
    "plt.legend()\n",
    "plt.title('Number of public bicycle riders by population')\n",
    "plt.xlabel('Hour')\n",
    "plt.show()"
   ]
  },
  {
   "cell_type": "code",
   "execution_count": 12,
   "metadata": {},
   "outputs": [
    {
     "name": "stdout",
     "output_type": "stream",
     "text": [
      "11.83544187112951\n",
      "0.0\n",
      "0.0\n",
      "0.0\n",
      "11.741677846963603\n",
      "18.78355406568634\n",
      "19.820111537343145\n",
      "23.70990707831382\n",
      "12.647251969153883\n",
      "12.928062321025724\n",
      "13.552012006329877\n",
      "12.882651311830012\n"
     ]
    }
   ],
   "source": [
    "#각 시간대별 인구수 대비 이용자 수 차이량\n",
    "\n",
    "for i in range(12):\n",
    "    print(h[i]/j[i])\n",
    "    \n",
    "#누비자가 11~ 23배 더 많은 것을 확인할 수 있다.\n",
    "#1~4시 사이에는 누비자가 운행을 하지 않는다."
   ]
  },
  {
   "cell_type": "markdown",
   "metadata": {},
   "source": [
    "# 5) 분석 결과 도출\n",
    "1) 월별 이용자 수 비교\n",
    "<br>인구수 대비 누비자의 사용자 수가 따릉이의 사용자 수 보다 5 ~ 37배 더 많다.\n",
    "<br>2) 시간대별 이용자 수 비교\n",
    "<br>이구수 대비 누비자의 사용자 수가 따릉이의 사용자 수 보다 11~ 23배 더 많다."
   ]
  },
  {
   "cell_type": "markdown",
   "metadata": {},
   "source": [
    "# 6) 결론\n",
    "서울과 창원의 월별, 시간대별 인구수 대비 공공자전거의 이용자수를 비교해보았다. 비교해보니 창원이 서울에 비해 월등히 이용자수가 많음을 확인할 수 있었다. 이에 대한 원인으로는 서울의 대중교통시설이 창원보다 활발하다는 것, 자전거를 탈 수 있는 환경이 창원보다 부실하다는 것 등을 생각해 볼 수 있다. 최종보고서에 원인 분석을 자세히 해 볼 생각이다. 또 따릉이는 누비자와 달리 1시, 2시, 3시에도 운영을 하고있다는 것을 알 수 있었다."
   ]
  },
  {
   "cell_type": "markdown",
   "metadata": {},
   "source": [
    "# 7) 참고문헌 \n",
    "https://nittaku.tistory.com/250, https://cleancode-ws.tistory.com/65"
   ]
  },
  {
   "cell_type": "markdown",
   "metadata": {},
   "source": [
    "# 8) 별첨1\n",
    "노트북이 안 좋은지, 액셀파일이 큰지 첨부가 안됩니다. \n",
    "<br>그러므로 파일 중 일부를 별도 첨부하겠습니다."
   ]
  },
  {
   "cell_type": "markdown",
   "metadata": {},
   "source": [
    "# 9) 별첨2 "
   ]
  },
  {
   "cell_type": "markdown",
   "metadata": {},
   "source": [
    "# 10) 별첨3\n",
    "9)와 10)는 위에 \"4) 분석을 위한 데이터 가공\"에 나와있으므로 확인 부탁드립니다."
   ]
  }
 ],
 "metadata": {
  "kernelspec": {
   "display_name": "Python 3",
   "language": "python",
   "name": "python3"
  },
  "language_info": {
   "codemirror_mode": {
    "name": "ipython",
    "version": 3
   },
   "file_extension": ".py",
   "mimetype": "text/x-python",
   "name": "python",
   "nbconvert_exporter": "python",
   "pygments_lexer": "ipython3",
   "version": "3.7.1"
  }
 },
 "nbformat": 4,
 "nbformat_minor": 2
}
